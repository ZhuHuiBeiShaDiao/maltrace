{
 "metadata": {
  "name": "Untitled0"
 },
 "nbformat": 3,
 "nbformat_minor": 0,
 "worksheets": [
  {
   "cells": [
    {
     "cell_type": "code",
     "collapsed": false,
     "input": "from pymal.analyzer import Analyzer",
     "language": "python",
     "metadata": {},
     "outputs": [],
     "prompt_number": 1
    },
    {
     "cell_type": "code",
     "collapsed": false,
     "input": "db = Analyzer('malwares.db')",
     "language": "python",
     "metadata": {},
     "outputs": [],
     "prompt_number": 2
    },
    {
     "cell_type": "code",
     "collapsed": false,
     "input": "db.get_samples()",
     "language": "python",
     "metadata": {},
     "outputs": [
      {
       "output_type": "pyout",
       "prompt_number": 3,
       "text": "[(1, u'allaple'),\n (2, u'blackhole'),\n (3, u'dapato'),\n (4, u'fakeav'),\n (5, u'gamaure'),\n (6, u'ramnit'),\n (7, u'sckeylog'),\n (8, u'spyeye'),\n (9, u'sub7'),\n (10, u'xpaj'),\n (11, u'zeus')]"
      }
     ],
     "prompt_number": 3
    },
    {
     "cell_type": "code",
     "collapsed": false,
     "input": "# Get the 5-gram context for the SCKeylog sample\nsckeylog = db.get_kcontext_for(7, 5)",
     "language": "python",
     "metadata": {},
     "outputs": [],
     "prompt_number": 7
    },
    {
     "cell_type": "code",
     "collapsed": false,
     "input": "# Do the same for FakeAV\nfakeav = db.get_kcontext_for(4, 5)",
     "language": "python",
     "metadata": {},
     "outputs": [],
     "prompt_number": 5
    },
    {
     "cell_type": "code",
     "collapsed": false,
     "input": "fakeav.get_similarity(sckeylog)",
     "language": "python",
     "metadata": {},
     "outputs": [
      {
       "output_type": "pyout",
       "prompt_number": 8,
       "text": "0.3366349090643639"
      }
     ],
     "prompt_number": 8
    },
    {
     "cell_type": "code",
     "collapsed": false,
     "input": "# Let's see why it is similar\ns, arr = fakeav.get_similarity(sckeylog, collect=True)\n",
     "language": "python",
     "metadata": {},
     "outputs": [],
     "prompt_number": 9
    },
    {
     "cell_type": "code",
     "collapsed": false,
     "input": "arr",
     "language": "python",
     "metadata": {},
     "outputs": [
      {
       "output_type": "pyout",
       "prompt_number": 10,
       "text": "[(12612488012983, 2.6134867546741978), (18853770391314, 2.521066493240994)]"
      }
     ],
     "prompt_number": 10
    },
    {
     "cell_type": "code",
     "collapsed": false,
     "input": "# Let's decode this information\ndb.unpack_kgram_value(arr[0][0], 5), db.unpack_kgram_value(arr[1][0], 5)",
     "language": "python",
     "metadata": {},
     "outputs": [
      {
       "output_type": "pyout",
       "prompt_number": 12,
       "text": "([(183, u'ZwReadFile'),\n  (274, u'ZwWriteFile'),\n  (183, u'ZwReadFile'),\n  (274, u'ZwWriteFile'),\n  (183, u'ZwReadFile')],\n [(274, u'ZwWriteFile'),\n  (183, u'ZwReadFile'),\n  (274, u'ZwWriteFile'),\n  (183, u'ZwReadFile'),\n  (274, u'ZwWriteFile')])"
      }
     ],
     "prompt_number": 12
    },
    {
     "cell_type": "code",
     "collapsed": false,
     "input": "# Let's obtain a FSM describing the invocations of FakeAV\nfsm = db.get_fsm(4)\nfsm.xdot()",
     "language": "python",
     "metadata": {},
     "outputs": [
      {
       "output_type": "pyout",
       "prompt_number": 14,
       "text": "'digraph fsm {1 -> 25 [label=25];\\n1 -> 1 [label=1];\\n130 -> 124 [label=124];\\n259 -> 32 [label=32];\\n179 -> 25 [label=25];\\n179 -> 151 [label=151];\\n179 -> 271 [label=271];\\n129 -> 35 [label=35];\\n129 -> 229 [label=229];\\n129 -> 41 [label=41];\\n129 -> 51 [label=51];\\n129 -> 119 [label=119];\\n129 -> 123 [label=123];\\n129 -> 189 [label=189];\\n8 -> 144 [label=144];\\n137 -> 137 [label=137];\\n137 -> 78 [label=78];\\n137 -> 178 [label=178];\\n137 -> 83 [label=83];\\n137 -> 53 [label=53];\\n137 -> 119 [label=119];\\n137 -> 154 [label=154];\\n137 -> 125 [label=125];\\n139 -> 35 [label=35];\\n139 -> 37 [label=37];\\n139 -> 41 [label=41];\\n139 -> 139 [label=139];\\n139 -> 142 [label=142];\\n139 -> 17 [label=17];\\n139 -> 116 [label=116];\\n139 -> 119 [label=119];\\n139 -> 25 [label=25];\\n139 -> 154 [label=154];\\n139 -> 189 [label=189];\\n142 -> 130 [label=130];\\n142 -> 137 [label=137];\\n142 -> 139 [label=139];\\n142 -> 173 [label=173];\\n142 -> 142 [label=142];\\n142 -> 116 [label=116];\\n142 -> 154 [label=154];\\n142 -> 119 [label=119];\\n142 -> 122 [label=122];\\n142 -> 125 [label=125];\\n143 -> 154 [label=154];\\n143 -> 116 [label=116];\\n143 -> 178 [label=178];\\n144 -> 17 [label=17];\\n144 -> 116 [label=116];\\n144 -> 177 [label=177];\\n144 -> 129 [label=129];\\n17 -> 224 [label=224];\\n17 -> 160 [label=160];\\n17 -> 35 [label=35];\\n17 -> 37 [label=37];\\n17 -> 137 [label=137];\\n17 -> 139 [label=139];\\n17 -> 50 [label=50];\\n17 -> 173 [label=173];\\n17 -> 144 [label=144];\\n17 -> 17 [label=17];\\n17 -> 178 [label=178];\\n17 -> 83 [label=83];\\n17 -> 277 [label=277];\\n17 -> 43 [label=43];\\n17 -> 119 [label=119];\\n17 -> 186 [label=186];\\n17 -> 183 [label=183];\\n17 -> 125 [label=125];\\n17 -> 53 [label=53];\\n274 -> 25 [label=25];\\n274 -> 17 [label=17];\\n274 -> 183 [label=183];\\n20 -> 270 [label=270];\\n20 -> 119 [label=119];\\n277 -> 17 [label=17];\\n277 -> 83 [label=83];\\n277 -> 277 [label=277];\\n151 -> 224 [label=224];\\n151 -> 130 [label=130];\\n151 -> 37 [label=37];\\n151 -> 50 [label=50];\\n151 -> 116 [label=116];\\n151 -> 151 [label=151];\\n151 -> 154 [label=154];\\n24 -> 25 [label=25];\\n24 -> 165 [label=165];\\n24 -> 111 [label=111];\\n25 -> 129 [label=129];\\n25 -> 130 [label=130];\\n25 -> 51 [label=51];\\n25 -> 1 [label=1];\\n25 -> 137 [label=137];\\n25 -> 139 [label=139];\\n25 -> 271 [label=271];\\n25 -> 144 [label=144];\\n25 -> 17 [label=17];\\n25 -> 20 [label=20];\\n25 -> 151 [label=151];\\n25 -> 24 [label=24];\\n25 -> 25 [label=25];\\n25 -> 154 [label=154];\\n25 -> 156 [label=156];\\n25 -> 31 [label=31];\\n25 -> 160 [label=160];\\n25 -> 35 [label=35];\\n25 -> 37 [label=37];\\n25 -> 38 [label=38];\\n25 -> 167 [label=167];\\n25 -> 41 [label=41];\\n25 -> 173 [label=173];\\n25 -> 177 [label=177];\\n25 -> 179 [label=179];\\n25 -> 188 [label=188];\\n25 -> 189 [label=189];\\n25 -> 267 [label=267];\\n25 -> 71 [label=71];\\n25 -> 200 [label=200];\\n25 -> 73 [label=73];\\n25 -> 83 [label=83];\\n25 -> 219 [label=219];\\n25 -> 228 [label=228];\\n25 -> 229 [label=229];\\n25 -> 108 [label=108];\\n25 -> 114 [label=114];\\n25 -> 116 [label=116];\\n25 -> 119 [label=119];\\n25 -> 122 [label=122];\\n25 -> 123 [label=123];\\n25 -> 125 [label=125];\\n25 -> 127 [label=127];\\n154 -> 32 [label=32];\\n154 -> 35 [label=35];\\n154 -> 228 [label=228];\\n154 -> 71 [label=71];\\n154 -> 139 [label=139];\\n154 -> 114 [label=114];\\n154 -> 178 [label=178];\\n154 -> 116 [label=116];\\n154 -> 119 [label=119];\\n154 -> 25 [label=25];\\n154 -> 154 [label=154];\\n154 -> 186 [label=186];\\n155 -> 200 [label=200];\\n156 -> 25 [label=25];\\n156 -> 156 [label=156];\\n156 -> 69 [label=69];\\n156 -> 119 [label=119];\\n31 -> 200 [label=200];\\n32 -> 17 [label=17];\\n32 -> 187 [label=187];\\n32 -> 229 [label=229];\\n35 -> 129 [label=129];\\n35 -> 35 [label=35];\\n35 -> 68 [label=68];\\n35 -> 43 [label=43];\\n35 -> 174 [label=174];\\n35 -> 111 [label=111];\\n35 -> 17 [label=17];\\n35 -> 114 [label=114];\\n35 -> 119 [label=119];\\n35 -> 24 [label=24];\\n35 -> 219 [label=219];\\n35 -> 31 [label=31];\\n165 -> 43 [label=43];\\n165 -> 119 [label=119];\\n38 -> 68 [label=68];\\n38 -> 38 [label=38];\\nstart -> 137 [label=137];\\nstart -> 259 [label=259];\\n41 -> 65 [label=65];\\n41 -> 137 [label=137];\\n41 -> 247 [label=247];\\n41 -> 177 [label=177];\\n41 -> 119 [label=119];\\n41 -> 25 [label=25];\\n170 -> 25 [label=25];\\n43 -> 144 [label=144];\\n43 -> 43 [label=43];\\n43 -> 35 [label=35];\\n43 -> 119 [label=119];\\n173 -> 160 [label=160];\\n173 -> 66 [label=66];\\n173 -> 35 [label=35];\\n173 -> 37 [label=37];\\n173 -> 200 [label=200];\\n173 -> 173 [label=173];\\n173 -> 48 [label=48];\\n173 -> 17 [label=17];\\n173 -> 119 [label=119];\\n173 -> 154 [label=154];\\n174 -> 35 [label=35];\\n48 -> 228 [label=228];\\n177 -> 160 [label=160];\\n177 -> 17 [label=17];\\n177 -> 41 [label=41];\\n177 -> 139 [label=139];\\n177 -> 271 [label=271];\\n177 -> 177 [label=177];\\n177 -> 119 [label=119];\\n177 -> 25 [label=25];\\n177 -> 189 [label=189];\\n178 -> 32 [label=32];\\n178 -> 154 [label=154];\\n178 -> 267 [label=267];\\n178 -> 178 [label=178];\\n178 -> 119 [label=119];\\n51 -> 189 [label=189];\\n51 -> 119 [label=119];\\n53 -> 200 [label=200];\\n53 -> 155 [label=155];\\n219 -> 271 [label=271];\\n219 -> 119 [label=119];\\n183 -> 224 [label=224];\\n183 -> 25 [label=25];\\n183 -> 274 [label=274];\\n183 -> 84 [label=84];\\n186 -> 186 [label=186];\\n186 -> 116 [label=116];\\n186 -> 142 [label=142];\\n187 -> 20 [label=20];\\n188 -> 160 [label=160];\\n188 -> 267 [label=267];\\n188 -> 139 [label=139];\\n188 -> 270 [label=270];\\n188 -> 271 [label=271];\\n188 -> 119 [label=119];\\n188 -> 25 [label=25];\\n189 -> 271 [label=271];\\n65 -> 25 [label=25];\\n160 -> 25 [label=25];\\n160 -> 130 [label=130];\\n160 -> 119 [label=119];\\n66 -> 17 [label=17];\\n66 -> 66 [label=66];\\n66 -> 173 [label=173];\\n66 -> 25 [label=25];\\n267 -> 139 [label=139];\\n267 -> 267 [label=267];\\n267 -> 108 [label=108];\\n267 -> 173 [label=173];\\n267 -> 142 [label=142];\\n267 -> 144 [label=144];\\n267 -> 116 [label=116];\\n267 -> 119 [label=119];\\n267 -> 25 [label=25];\\n267 -> 154 [label=154];\\n68 -> 129 [label=129];\\n68 -> 119 [label=119];\\n69 -> 25 [label=25];\\n69 -> 1 [label=1];\\n71 -> 160 [label=160];\\n71 -> 25 [label=25];\\n71 -> 71 [label=71];\\n71 -> 119 [label=119];\\n200 -> 129 [label=129];\\n200 -> 200 [label=200];\\n200 -> 142 [label=142];\\n200 -> 50 [label=50];\\n200 -> 116 [label=116];\\n200 -> 206 [label=206];\\n200 -> 119 [label=119];\\n200 -> 25 [label=25];\\n73 -> 160 [label=160];\\n73 -> 25 [label=25];\\n247 -> 25 [label=25];\\n247 -> 247 [label=247];\\n78 -> 137 [label=137];\\n78 -> 154 [label=154];\\n78 -> 125 [label=125];\\n78 -> 119 [label=119];\\n11 -> 25 [label=25];\\n227 -> 160 [label=160];\\n227 -> 41 [label=41];\\n84 -> 84 [label=84];\\n84 -> 271 [label=271];\\n206 -> 17 [label=17];\\n206 -> 25 [label=25];\\n152 -> 116 [label=116];\\n271 -> 160 [label=160];\\n271 -> 129 [label=129];\\n271 -> 37 [label=37];\\n271 -> 41 [label=41];\\n271 -> 151 [label=151];\\n271 -> 271 [label=271];\\n271 -> 177 [label=177];\\n271 -> 84 [label=84];\\n271 -> 119 [label=119];\\n271 -> 24 [label=24];\\n271 -> 25 [label=25];\\n271 -> 122 [label=122];\\n271 -> 188 [label=188];\\n271 -> 189 [label=189];\\n37 -> 224 [label=224];\\n37 -> 66 [label=66];\\n37 -> 37 [label=37];\\n37 -> 183 [label=183];\\n37 -> 173 [label=173];\\n37 -> 50 [label=50];\\n37 -> 179 [label=179];\\n37 -> 116 [label=116];\\n37 -> 151 [label=151];\\n224 -> 224 [label=224];\\n224 -> 17 [label=17];\\n224 -> 229 [label=229];\\n224 -> 183 [label=183];\\n50 -> 25 [label=25];\\n50 -> 179 [label=179];\\n50 -> 108 [label=108];\\n50 -> 167 [label=167];\\n228 -> 129 [label=129];\\n228 -> 139 [label=139];\\n228 -> 143 [label=143];\\n228 -> 271 [label=271];\\n228 -> 51 [label=51];\\n228 -> 151 [label=151];\\n228 -> 154 [label=154];\\n228 -> 123 [label=123];\\n229 -> 139 [label=139];\\n229 -> 37 [label=37];\\n229 -> 267 [label=267];\\n229 -> 270 [label=270];\\n229 -> 274 [label=274];\\n229 -> 83 [label=83];\\n145 -> 25 [label=25];\\n270 -> 155 [label=155];\\n270 -> 188 [label=188];\\n270 -> 270 [label=270];\\n167 -> 25 [label=25];\\n167 -> 119 [label=119];\\n108 -> 267 [label=267];\\n108 -> 17 [label=17];\\n108 -> 116 [label=116];\\n108 -> 119 [label=119];\\n108 -> 25 [label=25];\\n108 -> 151 [label=151];\\n111 -> 25 [label=25];\\n111 -> 119 [label=119];\\n114 -> 148 [label=148];\\n114 -> 125 [label=125];\\n114 -> 119 [label=119];\\n83 -> 137 [label=137];\\n83 -> 267 [label=267];\\n83 -> 173 [label=173];\\n83 -> 17 [label=17];\\n83 -> 50 [label=50];\\n83 -> 83 [label=83];\\n116 -> 66 [label=66];\\n116 -> 17 [label=17];\\n116 -> 200 [label=200];\\n116 -> 142 [label=142];\\n116 -> 143 [label=143];\\n116 -> 145 [label=145];\\n116 -> 50 [label=50];\\n116 -> 183 [label=183];\\n116 -> 127 [label=127];\\n119 -> 129 [label=129];\\n119 -> 130 [label=130];\\n119 -> 259 [label=259];\\n119 -> 8 [label=8];\\n119 -> 137 [label=137];\\n119 -> 267 [label=267];\\n119 -> 142 [label=142];\\n119 -> 143 [label=143];\\n119 -> 144 [label=144];\\n119 -> 17 [label=17];\\n119 -> 152 [label=152];\\n119 -> 25 [label=25];\\n119 -> 154 [label=154];\\n119 -> 160 [label=160];\\n119 -> 35 [label=35];\\n119 -> 165 [label=165];\\n119 -> 41 [label=41];\\n119 -> 43 [label=43];\\n119 -> 173 [label=173];\\n119 -> 177 [label=177];\\n119 -> 51 [label=51];\\n119 -> 188 [label=188];\\n119 -> 189 [label=189];\\n119 -> 71 [label=71];\\n119 -> 73 [label=73];\\n119 -> 247 [label=247];\\n119 -> 227 [label=227];\\n119 -> 116 [label=116];\\n119 -> 119 [label=119];\\n119 -> 123 [label=123];\\n148 -> 25 [label=25];\\n122 -> 154 [label=154];\\n123 -> 1 [label=1];\\n123 -> 11 [label=11];\\n123 -> 156 [label=156];\\n123 -> 69 [label=69];\\n124 -> 156 [label=156];\\n125 -> 139 [label=139];\\n125 -> 108 [label=108];\\n127 -> 170 [label=170];\\nstart [style=bold];}'"
      }
     ],
     "prompt_number": 14
    },
    {
     "cell_type": "code",
     "collapsed": false,
     "input": "",
     "language": "python",
     "metadata": {},
     "outputs": []
    }
   ],
   "metadata": {}
  }
 ]
}